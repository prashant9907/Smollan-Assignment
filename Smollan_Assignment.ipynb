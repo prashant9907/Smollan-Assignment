{
  "nbformat": 4,
  "nbformat_minor": 0,
  "metadata": {
    "colab": {
      "provenance": []
    },
    "kernelspec": {
      "name": "python3",
      "display_name": "Python 3"
    },
    "language_info": {
      "name": "python"
    }
  },
  "cells": [
    {
      "cell_type": "markdown",
      "source": [
        "# 1. Clean file raw_belsimpel.xlsx"
      ],
      "metadata": {
        "id": "pww0ytBD_ift"
      }
    },
    {
      "cell_type": "markdown",
      "source": [
        "## a. import the file"
      ],
      "metadata": {
        "id": "SySxqpB8_qty"
      }
    },
    {
      "cell_type": "code",
      "source": [
        "import pandas as pd\n",
        "\n",
        "bel_dataframe = pd.read_excel('/content/raw_belsimpel.xlsx') # Read an excel file\n",
        "\n",
        "print(bel_dataframe.head()) # Print the first five rows of the dataframe\n"
      ],
      "metadata": {
        "colab": {
          "base_uri": "https://localhost:8080/"
        },
        "id": "LVCFNn2I_hoK",
        "outputId": "39fa4011-d3b0-44c1-fc18-cabf0b9a6c40"
      },
      "execution_count": 11,
      "outputs": [
        {
          "output_type": "stream",
          "name": "stdout",
          "text": [
            "  web-scraper-order                    web-scraper-start-url       Rating  \\\n",
            "0      1674825213-2  https://www.belsimpel.nl/google-pixel-7    5 sterren   \n",
            "1      1674825213-3  https://www.belsimpel.nl/google-pixel-7    5 sterren   \n",
            "2      1674825213-4  https://www.belsimpel.nl/google-pixel-7  4.5 sterren   \n",
            "3      1674825213-5  https://www.belsimpel.nl/google-pixel-7    5 sterren   \n",
            "4      1674825213-6  https://www.belsimpel.nl/google-pixel-7  4.5 sterren   \n",
            "\n",
            "                                         Review Date  \\\n",
            "0  *fd | 20-10-2022 over de Google Pixel 7 128GB ...   \n",
            "1  *fd | 18-10-2022 over de Google Pixel 7 128GB ...   \n",
            "2  *fd | 17-10-2022 over de Google Pixel 7 128GB ...   \n",
            "3  *fd | 14-10-2022 over de Google Pixel 7 128GB Wit   \n",
            "4  *fd | 27-10-2022 over de Google Pixel 7 128GB ...   \n",
            "\n",
            "                                         Review Text  \\\n",
            "0  Vanaf een Huawei P30 pro die kapot ging de ove...   \n",
            "1  Voor de pure Android liefhebber is het een uit...   \n",
            "2  Na jaren geleden 2x een Nexus gehad te hebben ...   \n",
            "3  Ik had hiervoor al de Pixel 6, daar was niks m...   \n",
            "4  Pixel 7 nu een ruime week in bezit, en beval m...   \n",
            "\n",
            "                                      Pro_Con Review  Belsimpel  \n",
            "0  PluspuntSchermPluspuntSnelheidPluspuntCamera (...        NaN  \n",
            "1  PluspuntPuur Android innovatief PluspuntScherm...        NaN  \n",
            "2  PluspuntClean kale Android PluspuntLooksPluspu...        NaN  \n",
            "3  PluspuntStock androidPluspuntPixel featuresPlu...        NaN  \n",
            "4  PluspuntUitstekend updatebeleidPluspuntPluspun...        NaN  \n"
          ]
        }
      ]
    },
    {
      "cell_type": "markdown",
      "source": [
        "## b. checking NULL values and replace with empty string"
      ],
      "metadata": {
        "id": "ogd3aRn-AD9I"
      }
    },
    {
      "cell_type": "code",
      "source": [
        "bel_dataframe.info()"
      ],
      "metadata": {
        "colab": {
          "base_uri": "https://localhost:8080/"
        },
        "id": "0PZu8Pa4_5V1",
        "outputId": "306f6e92-f7ce-4918-adff-fd4d7782aaac"
      },
      "execution_count": 12,
      "outputs": [
        {
          "output_type": "stream",
          "name": "stdout",
          "text": [
            "<class 'pandas.core.frame.DataFrame'>\n",
            "RangeIndex: 486 entries, 0 to 485\n",
            "Data columns (total 7 columns):\n",
            " #   Column                 Non-Null Count  Dtype  \n",
            "---  ------                 --------------  -----  \n",
            " 0   web-scraper-order      486 non-null    object \n",
            " 1   web-scraper-start-url  486 non-null    object \n",
            " 2   Rating                 486 non-null    object \n",
            " 3   Review Date            486 non-null    object \n",
            " 4   Review Text            253 non-null    object \n",
            " 5   Pro_Con Review         372 non-null    object \n",
            " 6   Belsimpel              0 non-null      float64\n",
            "dtypes: float64(1), object(6)\n",
            "memory usage: 26.7+ KB\n"
          ]
        }
      ]
    },
    {
      "cell_type": "code",
      "source": [
        "bel_dataframe['Pro_Con Review'].fillna(\"\", inplace=True)\n",
        "bel_dataframe['Review Text'].fillna(\"\", inplace=True)"
      ],
      "metadata": {
        "id": "q-_KbCEjABtx"
      },
      "execution_count": 13,
      "outputs": []
    },
    {
      "cell_type": "code",
      "source": [
        "bel_dataframe.info()"
      ],
      "metadata": {
        "colab": {
          "base_uri": "https://localhost:8080/"
        },
        "id": "e0IXpjoZARq7",
        "outputId": "27d49ae4-f4fc-4027-8ebb-6a582d277147"
      },
      "execution_count": 14,
      "outputs": [
        {
          "output_type": "stream",
          "name": "stdout",
          "text": [
            "<class 'pandas.core.frame.DataFrame'>\n",
            "RangeIndex: 486 entries, 0 to 485\n",
            "Data columns (total 7 columns):\n",
            " #   Column                 Non-Null Count  Dtype  \n",
            "---  ------                 --------------  -----  \n",
            " 0   web-scraper-order      486 non-null    object \n",
            " 1   web-scraper-start-url  486 non-null    object \n",
            " 2   Rating                 486 non-null    object \n",
            " 3   Review Date            486 non-null    object \n",
            " 4   Review Text            486 non-null    object \n",
            " 5   Pro_Con Review         486 non-null    object \n",
            " 6   Belsimpel              0 non-null      float64\n",
            "dtypes: float64(1), object(6)\n",
            "memory usage: 26.7+ KB\n"
          ]
        }
      ]
    },
    {
      "cell_type": "markdown",
      "source": [
        "## c. Extract Rating from the raw rating data"
      ],
      "metadata": {
        "id": "MuA9CK_zAfJk"
      }
    },
    {
      "cell_type": "code",
      "source": [
        "import math\n",
        "def extract_rating(st):\n",
        "  return math.ceil(float(st.split()[0]))\n",
        "\n",
        "bel_dataframe['Rating'] = bel_dataframe['Rating'].apply(extract_rating)"
      ],
      "metadata": {
        "id": "0Vk5MoNbAV1b"
      },
      "execution_count": 15,
      "outputs": []
    },
    {
      "cell_type": "markdown",
      "source": [
        "## d. Extract Date from raw Date Data"
      ],
      "metadata": {
        "id": "cgQc2nt1Aqln"
      }
    },
    {
      "cell_type": "code",
      "source": [
        "import datetime\n",
        "\n",
        "def extract_date(text):\n",
        "  date_str = text.split('over de')[0].split()[-1]\n",
        "  date_obj = datetime.datetime.strptime(date_str, '%d-%m-%Y')\n",
        "  return date_obj.strftime('%Y-%m-%d 00:00:00')\n",
        "\n",
        "bel_dataframe['Review Date'] = bel_dataframe['Review Date'].apply(extract_date)"
      ],
      "metadata": {
        "id": "8NEs2HkxAmtb"
      },
      "execution_count": 16,
      "outputs": []
    },
    {
      "cell_type": "markdown",
      "source": [
        "## e. Extract Pro Cons Review from raw data"
      ],
      "metadata": {
        "id": "EN17U79QA-RT"
      }
    },
    {
      "cell_type": "code",
      "source": [
        "def clean_list(lst):\n",
        "  return [x.strip() for x in lst if x]\n",
        "\n",
        "def extract_pro_con(text):\n",
        "  pro_text = \", \".join(clean_list(str(text).split('Pluspunt')[:-1] + [str(text).split('Pluspunt')[-1].split('Minpunt')[0]]))\n",
        "  con_text = \", \".join(clean_list(str(text).split('Pluspunt')[-1].split('Minpunt')[1:]))\n",
        "  if pro_text != \"\":\n",
        "    pro_text = \"Pros: \" + pro_text\n",
        "  if con_text != \"\":\n",
        "    con_text = \"'.'Cons: \" + con_text\n",
        "  return pro_text +  con_text\n",
        "\n",
        "\n",
        "bel_dataframe['Pro_Con Review'] = bel_dataframe['Pro_Con Review'].apply(extract_pro_con)\n"
      ],
      "metadata": {
        "id": "Pgx7vEf2A4vU"
      },
      "execution_count": 17,
      "outputs": []
    },
    {
      "cell_type": "markdown",
      "source": [
        "## f. Adding the pro_con reviews to Review Text"
      ],
      "metadata": {
        "id": "hP2L6HDEBMgg"
      }
    },
    {
      "cell_type": "code",
      "source": [
        "bel_dataframe['Review Text'] =  bel_dataframe['Review Text'] +\"'.'\"+ bel_dataframe['Pro_Con Review']"
      ],
      "metadata": {
        "id": "_6Fe-M3NBLWZ"
      },
      "execution_count": 18,
      "outputs": []
    },
    {
      "cell_type": "markdown",
      "source": [
        "## g. if both the review text and pro_con review are empty then we remove those row from the dataframe"
      ],
      "metadata": {
        "id": "T7o5UNjoBZ-Z"
      }
    },
    {
      "cell_type": "code",
      "source": [
        "bel_dataframe = bel_dataframe[bel_dataframe['Review Text'] != \"'.'\"]"
      ],
      "metadata": {
        "id": "-X_hpJNNBXdU"
      },
      "execution_count": 19,
      "outputs": []
    },
    {
      "cell_type": "markdown",
      "source": [
        "## h. Adding the country and source column to the dataframe"
      ],
      "metadata": {
        "id": "N3uwGJT7Bv6R"
      }
    },
    {
      "cell_type": "code",
      "source": [
        "bel_dataframe['Country'] = 'Netherlands'\n",
        "bel_dataframe['Source'] = 'Belsimpel'\n",
        "\n",
        "print(bel_dataframe.head()) # Print the dataframe to verify the new columns\n"
      ],
      "metadata": {
        "colab": {
          "base_uri": "https://localhost:8080/"
        },
        "id": "CxQiYABFBrWx",
        "outputId": "09ca865c-d6c9-4973-e4e6-ec753e27328e"
      },
      "execution_count": 20,
      "outputs": [
        {
          "output_type": "stream",
          "name": "stdout",
          "text": [
            "  web-scraper-order                    web-scraper-start-url  Rating  \\\n",
            "0      1674825213-2  https://www.belsimpel.nl/google-pixel-7       5   \n",
            "1      1674825213-3  https://www.belsimpel.nl/google-pixel-7       5   \n",
            "2      1674825213-4  https://www.belsimpel.nl/google-pixel-7       5   \n",
            "3      1674825213-5  https://www.belsimpel.nl/google-pixel-7       5   \n",
            "4      1674825213-6  https://www.belsimpel.nl/google-pixel-7       5   \n",
            "\n",
            "           Review Date                                        Review Text  \\\n",
            "0  2022-10-20 00:00:00  Vanaf een Huawei P30 pro die kapot ging de ove...   \n",
            "1  2022-10-18 00:00:00  Voor de pure Android liefhebber is het een uit...   \n",
            "2  2022-10-17 00:00:00  Na jaren geleden 2x een Nexus gehad te hebben ...   \n",
            "3  2022-10-14 00:00:00  Ik had hiervoor al de Pixel 6, daar was niks m...   \n",
            "4  2022-10-27 00:00:00  Pixel 7 nu een ruime week in bezit, en beval m...   \n",
            "\n",
            "                                      Pro_Con Review  Belsimpel      Country  \\\n",
            "0  Pros: Scherm, Snelheid, Camera (vooral portret...        NaN  Netherlands   \n",
            "1  Pros: Puur Android innovatief, Schermhelderhei...        NaN  Netherlands   \n",
            "2  Pros: Clean kale Android, Looks, Mooie feature...        NaN  Netherlands   \n",
            "3   Pros: Stock android, Pixel features, Face unlock        NaN  Netherlands   \n",
            "4  Pros: Uitstekend updatebeleid, Stock Android, ...        NaN  Netherlands   \n",
            "\n",
            "      Source  \n",
            "0  Belsimpel  \n",
            "1  Belsimpel  \n",
            "2  Belsimpel  \n",
            "3  Belsimpel  \n",
            "4  Belsimpel  \n"
          ]
        }
      ]
    },
    {
      "cell_type": "markdown",
      "source": [
        "## i. Manage the dataframe into desired format"
      ],
      "metadata": {
        "id": "RATy4O-bCCXi"
      }
    },
    {
      "cell_type": "code",
      "source": [
        "belsimpel_dataframe = pd.concat([bel_dataframe['Country'],bel_dataframe['Source'], bel_dataframe['Rating'],bel_dataframe['Review Date'],bel_dataframe['Review Text']],axis=1)"
      ],
      "metadata": {
        "id": "EFHnMQ9KB8m9"
      },
      "execution_count": 21,
      "outputs": []
    },
    {
      "cell_type": "code",
      "source": [
        "belsimpel_dataframe.head()"
      ],
      "metadata": {
        "colab": {
          "base_uri": "https://localhost:8080/",
          "height": 206
        },
        "id": "KPhW7Zd1CMUy",
        "outputId": "21f6a71e-15fd-4c97-d1da-358624f028e9"
      },
      "execution_count": 22,
      "outputs": [
        {
          "output_type": "execute_result",
          "data": {
            "text/plain": [
              "       Country     Source  Rating          Review Date  \\\n",
              "0  Netherlands  Belsimpel       5  2022-10-20 00:00:00   \n",
              "1  Netherlands  Belsimpel       5  2022-10-18 00:00:00   \n",
              "2  Netherlands  Belsimpel       5  2022-10-17 00:00:00   \n",
              "3  Netherlands  Belsimpel       5  2022-10-14 00:00:00   \n",
              "4  Netherlands  Belsimpel       5  2022-10-27 00:00:00   \n",
              "\n",
              "                                         Review Text  \n",
              "0  Vanaf een Huawei P30 pro die kapot ging de ove...  \n",
              "1  Voor de pure Android liefhebber is het een uit...  \n",
              "2  Na jaren geleden 2x een Nexus gehad te hebben ...  \n",
              "3  Ik had hiervoor al de Pixel 6, daar was niks m...  \n",
              "4  Pixel 7 nu een ruime week in bezit, en beval m...  "
            ],
            "text/html": [
              "\n",
              "  <div id=\"df-37907b40-67a6-4acf-b274-0fd4915c0fc4\" class=\"colab-df-container\">\n",
              "    <div>\n",
              "<style scoped>\n",
              "    .dataframe tbody tr th:only-of-type {\n",
              "        vertical-align: middle;\n",
              "    }\n",
              "\n",
              "    .dataframe tbody tr th {\n",
              "        vertical-align: top;\n",
              "    }\n",
              "\n",
              "    .dataframe thead th {\n",
              "        text-align: right;\n",
              "    }\n",
              "</style>\n",
              "<table border=\"1\" class=\"dataframe\">\n",
              "  <thead>\n",
              "    <tr style=\"text-align: right;\">\n",
              "      <th></th>\n",
              "      <th>Country</th>\n",
              "      <th>Source</th>\n",
              "      <th>Rating</th>\n",
              "      <th>Review Date</th>\n",
              "      <th>Review Text</th>\n",
              "    </tr>\n",
              "  </thead>\n",
              "  <tbody>\n",
              "    <tr>\n",
              "      <th>0</th>\n",
              "      <td>Netherlands</td>\n",
              "      <td>Belsimpel</td>\n",
              "      <td>5</td>\n",
              "      <td>2022-10-20 00:00:00</td>\n",
              "      <td>Vanaf een Huawei P30 pro die kapot ging de ove...</td>\n",
              "    </tr>\n",
              "    <tr>\n",
              "      <th>1</th>\n",
              "      <td>Netherlands</td>\n",
              "      <td>Belsimpel</td>\n",
              "      <td>5</td>\n",
              "      <td>2022-10-18 00:00:00</td>\n",
              "      <td>Voor de pure Android liefhebber is het een uit...</td>\n",
              "    </tr>\n",
              "    <tr>\n",
              "      <th>2</th>\n",
              "      <td>Netherlands</td>\n",
              "      <td>Belsimpel</td>\n",
              "      <td>5</td>\n",
              "      <td>2022-10-17 00:00:00</td>\n",
              "      <td>Na jaren geleden 2x een Nexus gehad te hebben ...</td>\n",
              "    </tr>\n",
              "    <tr>\n",
              "      <th>3</th>\n",
              "      <td>Netherlands</td>\n",
              "      <td>Belsimpel</td>\n",
              "      <td>5</td>\n",
              "      <td>2022-10-14 00:00:00</td>\n",
              "      <td>Ik had hiervoor al de Pixel 6, daar was niks m...</td>\n",
              "    </tr>\n",
              "    <tr>\n",
              "      <th>4</th>\n",
              "      <td>Netherlands</td>\n",
              "      <td>Belsimpel</td>\n",
              "      <td>5</td>\n",
              "      <td>2022-10-27 00:00:00</td>\n",
              "      <td>Pixel 7 nu een ruime week in bezit, en beval m...</td>\n",
              "    </tr>\n",
              "  </tbody>\n",
              "</table>\n",
              "</div>\n",
              "    <div class=\"colab-df-buttons\">\n",
              "\n",
              "  <div class=\"colab-df-container\">\n",
              "    <button class=\"colab-df-convert\" onclick=\"convertToInteractive('df-37907b40-67a6-4acf-b274-0fd4915c0fc4')\"\n",
              "            title=\"Convert this dataframe to an interactive table.\"\n",
              "            style=\"display:none;\">\n",
              "\n",
              "  <svg xmlns=\"http://www.w3.org/2000/svg\" height=\"24px\" viewBox=\"0 -960 960 960\">\n",
              "    <path d=\"M120-120v-720h720v720H120Zm60-500h600v-160H180v160Zm220 220h160v-160H400v160Zm0 220h160v-160H400v160ZM180-400h160v-160H180v160Zm440 0h160v-160H620v160ZM180-180h160v-160H180v160Zm440 0h160v-160H620v160Z\"/>\n",
              "  </svg>\n",
              "    </button>\n",
              "\n",
              "  <style>\n",
              "    .colab-df-container {\n",
              "      display:flex;\n",
              "      gap: 12px;\n",
              "    }\n",
              "\n",
              "    .colab-df-convert {\n",
              "      background-color: #E8F0FE;\n",
              "      border: none;\n",
              "      border-radius: 50%;\n",
              "      cursor: pointer;\n",
              "      display: none;\n",
              "      fill: #1967D2;\n",
              "      height: 32px;\n",
              "      padding: 0 0 0 0;\n",
              "      width: 32px;\n",
              "    }\n",
              "\n",
              "    .colab-df-convert:hover {\n",
              "      background-color: #E2EBFA;\n",
              "      box-shadow: 0px 1px 2px rgba(60, 64, 67, 0.3), 0px 1px 3px 1px rgba(60, 64, 67, 0.15);\n",
              "      fill: #174EA6;\n",
              "    }\n",
              "\n",
              "    .colab-df-buttons div {\n",
              "      margin-bottom: 4px;\n",
              "    }\n",
              "\n",
              "    [theme=dark] .colab-df-convert {\n",
              "      background-color: #3B4455;\n",
              "      fill: #D2E3FC;\n",
              "    }\n",
              "\n",
              "    [theme=dark] .colab-df-convert:hover {\n",
              "      background-color: #434B5C;\n",
              "      box-shadow: 0px 1px 3px 1px rgba(0, 0, 0, 0.15);\n",
              "      filter: drop-shadow(0px 1px 2px rgba(0, 0, 0, 0.3));\n",
              "      fill: #FFFFFF;\n",
              "    }\n",
              "  </style>\n",
              "\n",
              "    <script>\n",
              "      const buttonEl =\n",
              "        document.querySelector('#df-37907b40-67a6-4acf-b274-0fd4915c0fc4 button.colab-df-convert');\n",
              "      buttonEl.style.display =\n",
              "        google.colab.kernel.accessAllowed ? 'block' : 'none';\n",
              "\n",
              "      async function convertToInteractive(key) {\n",
              "        const element = document.querySelector('#df-37907b40-67a6-4acf-b274-0fd4915c0fc4');\n",
              "        const dataTable =\n",
              "          await google.colab.kernel.invokeFunction('convertToInteractive',\n",
              "                                                    [key], {});\n",
              "        if (!dataTable) return;\n",
              "\n",
              "        const docLinkHtml = 'Like what you see? Visit the ' +\n",
              "          '<a target=\"_blank\" href=https://colab.research.google.com/notebooks/data_table.ipynb>data table notebook</a>'\n",
              "          + ' to learn more about interactive tables.';\n",
              "        element.innerHTML = '';\n",
              "        dataTable['output_type'] = 'display_data';\n",
              "        await google.colab.output.renderOutput(dataTable, element);\n",
              "        const docLink = document.createElement('div');\n",
              "        docLink.innerHTML = docLinkHtml;\n",
              "        element.appendChild(docLink);\n",
              "      }\n",
              "    </script>\n",
              "  </div>\n",
              "\n",
              "\n",
              "<div id=\"df-9155a28a-fee3-4942-a511-c53246ea03a2\">\n",
              "  <button class=\"colab-df-quickchart\" onclick=\"quickchart('df-9155a28a-fee3-4942-a511-c53246ea03a2')\"\n",
              "            title=\"Suggest charts\"\n",
              "            style=\"display:none;\">\n",
              "\n",
              "<svg xmlns=\"http://www.w3.org/2000/svg\" height=\"24px\"viewBox=\"0 0 24 24\"\n",
              "     width=\"24px\">\n",
              "    <g>\n",
              "        <path d=\"M19 3H5c-1.1 0-2 .9-2 2v14c0 1.1.9 2 2 2h14c1.1 0 2-.9 2-2V5c0-1.1-.9-2-2-2zM9 17H7v-7h2v7zm4 0h-2V7h2v10zm4 0h-2v-4h2v4z\"/>\n",
              "    </g>\n",
              "</svg>\n",
              "  </button>\n",
              "\n",
              "<style>\n",
              "  .colab-df-quickchart {\n",
              "      --bg-color: #E8F0FE;\n",
              "      --fill-color: #1967D2;\n",
              "      --hover-bg-color: #E2EBFA;\n",
              "      --hover-fill-color: #174EA6;\n",
              "      --disabled-fill-color: #AAA;\n",
              "      --disabled-bg-color: #DDD;\n",
              "  }\n",
              "\n",
              "  [theme=dark] .colab-df-quickchart {\n",
              "      --bg-color: #3B4455;\n",
              "      --fill-color: #D2E3FC;\n",
              "      --hover-bg-color: #434B5C;\n",
              "      --hover-fill-color: #FFFFFF;\n",
              "      --disabled-bg-color: #3B4455;\n",
              "      --disabled-fill-color: #666;\n",
              "  }\n",
              "\n",
              "  .colab-df-quickchart {\n",
              "    background-color: var(--bg-color);\n",
              "    border: none;\n",
              "    border-radius: 50%;\n",
              "    cursor: pointer;\n",
              "    display: none;\n",
              "    fill: var(--fill-color);\n",
              "    height: 32px;\n",
              "    padding: 0;\n",
              "    width: 32px;\n",
              "  }\n",
              "\n",
              "  .colab-df-quickchart:hover {\n",
              "    background-color: var(--hover-bg-color);\n",
              "    box-shadow: 0 1px 2px rgba(60, 64, 67, 0.3), 0 1px 3px 1px rgba(60, 64, 67, 0.15);\n",
              "    fill: var(--button-hover-fill-color);\n",
              "  }\n",
              "\n",
              "  .colab-df-quickchart-complete:disabled,\n",
              "  .colab-df-quickchart-complete:disabled:hover {\n",
              "    background-color: var(--disabled-bg-color);\n",
              "    fill: var(--disabled-fill-color);\n",
              "    box-shadow: none;\n",
              "  }\n",
              "\n",
              "  .colab-df-spinner {\n",
              "    border: 2px solid var(--fill-color);\n",
              "    border-color: transparent;\n",
              "    border-bottom-color: var(--fill-color);\n",
              "    animation:\n",
              "      spin 1s steps(1) infinite;\n",
              "  }\n",
              "\n",
              "  @keyframes spin {\n",
              "    0% {\n",
              "      border-color: transparent;\n",
              "      border-bottom-color: var(--fill-color);\n",
              "      border-left-color: var(--fill-color);\n",
              "    }\n",
              "    20% {\n",
              "      border-color: transparent;\n",
              "      border-left-color: var(--fill-color);\n",
              "      border-top-color: var(--fill-color);\n",
              "    }\n",
              "    30% {\n",
              "      border-color: transparent;\n",
              "      border-left-color: var(--fill-color);\n",
              "      border-top-color: var(--fill-color);\n",
              "      border-right-color: var(--fill-color);\n",
              "    }\n",
              "    40% {\n",
              "      border-color: transparent;\n",
              "      border-right-color: var(--fill-color);\n",
              "      border-top-color: var(--fill-color);\n",
              "    }\n",
              "    60% {\n",
              "      border-color: transparent;\n",
              "      border-right-color: var(--fill-color);\n",
              "    }\n",
              "    80% {\n",
              "      border-color: transparent;\n",
              "      border-right-color: var(--fill-color);\n",
              "      border-bottom-color: var(--fill-color);\n",
              "    }\n",
              "    90% {\n",
              "      border-color: transparent;\n",
              "      border-bottom-color: var(--fill-color);\n",
              "    }\n",
              "  }\n",
              "</style>\n",
              "\n",
              "  <script>\n",
              "    async function quickchart(key) {\n",
              "      const quickchartButtonEl =\n",
              "        document.querySelector('#' + key + ' button');\n",
              "      quickchartButtonEl.disabled = true;  // To prevent multiple clicks.\n",
              "      quickchartButtonEl.classList.add('colab-df-spinner');\n",
              "      try {\n",
              "        const charts = await google.colab.kernel.invokeFunction(\n",
              "            'suggestCharts', [key], {});\n",
              "      } catch (error) {\n",
              "        console.error('Error during call to suggestCharts:', error);\n",
              "      }\n",
              "      quickchartButtonEl.classList.remove('colab-df-spinner');\n",
              "      quickchartButtonEl.classList.add('colab-df-quickchart-complete');\n",
              "    }\n",
              "    (() => {\n",
              "      let quickchartButtonEl =\n",
              "        document.querySelector('#df-9155a28a-fee3-4942-a511-c53246ea03a2 button');\n",
              "      quickchartButtonEl.style.display =\n",
              "        google.colab.kernel.accessAllowed ? 'block' : 'none';\n",
              "    })();\n",
              "  </script>\n",
              "</div>\n",
              "\n",
              "    </div>\n",
              "  </div>\n"
            ],
            "application/vnd.google.colaboratory.intrinsic+json": {
              "type": "dataframe",
              "variable_name": "belsimpel_dataframe",
              "summary": "{\n  \"name\": \"belsimpel_dataframe\",\n  \"rows\": 381,\n  \"fields\": [\n    {\n      \"column\": \"Country\",\n      \"properties\": {\n        \"dtype\": \"category\",\n        \"num_unique_values\": 1,\n        \"samples\": [\n          \"Netherlands\"\n        ],\n        \"semantic_type\": \"\",\n        \"description\": \"\"\n      }\n    },\n    {\n      \"column\": \"Source\",\n      \"properties\": {\n        \"dtype\": \"category\",\n        \"num_unique_values\": 1,\n        \"samples\": [\n          \"Belsimpel\"\n        ],\n        \"semantic_type\": \"\",\n        \"description\": \"\"\n      }\n    },\n    {\n      \"column\": \"Rating\",\n      \"properties\": {\n        \"dtype\": \"number\",\n        \"std\": 0,\n        \"min\": 3,\n        \"max\": 5,\n        \"num_unique_values\": 3,\n        \"samples\": [\n          5\n        ],\n        \"semantic_type\": \"\",\n        \"description\": \"\"\n      }\n    },\n    {\n      \"column\": \"Review Date\",\n      \"properties\": {\n        \"dtype\": \"object\",\n        \"num_unique_values\": 82,\n        \"samples\": [\n          \"2022-12-29 00:00:00\"\n        ],\n        \"semantic_type\": \"\",\n        \"description\": \"\"\n      }\n    },\n    {\n      \"column\": \"Review Text\",\n      \"properties\": {\n        \"dtype\": \"string\",\n        \"num_unique_values\": 381,\n        \"samples\": [\n          \"'.'Pros: Camera, Snelheid, scherm'.'Cons: Toch wel wat bloatware, batterij duur valt tegen, laadtijd valt tegen\"\n        ],\n        \"semantic_type\": \"\",\n        \"description\": \"\"\n      }\n    }\n  ]\n}"
            }
          },
          "metadata": {},
          "execution_count": 22
        }
      ]
    },
    {
      "cell_type": "markdown",
      "source": [
        "# 2. Clean file raw_shopee_Sg.xlsx"
      ],
      "metadata": {
        "id": "F0tL6MUACa8H"
      }
    },
    {
      "cell_type": "markdown",
      "source": [
        "## a. import file"
      ],
      "metadata": {
        "id": "DXL5zBeuCm4L"
      }
    },
    {
      "cell_type": "code",
      "source": [
        "import pandas as pd\n",
        "\n",
        "dataframe = pd.read_excel('/content/raw_shopee_Sg.xlsx') # Read an excel file\n",
        "\n",
        "print(dataframe.head()) # Print the first five rows of the dataframe"
      ],
      "metadata": {
        "colab": {
          "base_uri": "https://localhost:8080/"
        },
        "id": "NCsLy8gLCg65",
        "outputId": "17739256-0cf0-4e68-a5b3-59d33274b91c"
      },
      "execution_count": 25,
      "outputs": [
        {
          "output_type": "stream",
          "name": "stdout",
          "text": [
            "  web-scraper-order                              web-scraper-start-url  \\\n",
            "0    1677488306-223  https://shopee.sg/Apple-iPhone-14-i.442800909....   \n",
            "1    1677488306-224  https://shopee.sg/Apple-iPhone-14-i.442800909....   \n",
            "2    1677488306-225  https://shopee.sg/Apple-iPhone-14-i.442800909....   \n",
            "3    1677488306-226  https://shopee.sg/Apple-iPhone-14-i.442800909....   \n",
            "4    1677488306-227  https://shopee.sg/Apple-iPhone-14-i.442800909....   \n",
            "\n",
            "                                              Rating  \\\n",
            "0  <svg enable-background=\"new 0 0 15 15\" viewBox...   \n",
            "1  <svg enable-background=\"new 0 0 15 15\" viewBox...   \n",
            "2  <svg enable-background=\"new 0 0 15 15\" viewBox...   \n",
            "3  <svg enable-background=\"new 0 0 15 15\" viewBox...   \n",
            "4  <svg enable-background=\"new 0 0 15 15\" viewBox...   \n",
            "\n",
            "                                     Review Date  \\\n",
            "0  2022-12-28 15:41 | Variation: Starlight,512GB   \n",
            "1     2022-10-11 05:50 | Variation: Purple,128GB   \n",
            "2       2023-01-07 13:49 | Variation: Blue,128GB   \n",
            "3       2023-01-29 06:45 | Variation: Blue,512GB   \n",
            "4       2023-01-29 08:49 | Variation: Blue,128GB   \n",
            "\n",
            "                                         Review Text  Shopee  \n",
            "0  <div style=\"margin-top: 0px;\"><span class=\"Xgp...     NaN  \n",
            "1  <div style=\"margin-top: 0px;\"><span class=\"Xgp...     NaN  \n",
            "2  <div style=\"margin-top: 0px;\"><span class=\"Xgp...     NaN  \n",
            "3  Delivery within 3-4 working days. Haven’t trie...     NaN  \n",
            "4  much cheaper than official site! delivery was ...     NaN  \n"
          ]
        }
      ]
    },
    {
      "cell_type": "code",
      "source": [
        "dataframe.info()"
      ],
      "metadata": {
        "colab": {
          "base_uri": "https://localhost:8080/"
        },
        "id": "Ziri6SU2CwSi",
        "outputId": "23dfd587-f7dc-489d-a6d7-bf798f520b5b"
      },
      "execution_count": 26,
      "outputs": [
        {
          "output_type": "stream",
          "name": "stdout",
          "text": [
            "<class 'pandas.core.frame.DataFrame'>\n",
            "RangeIndex: 30 entries, 0 to 29\n",
            "Data columns (total 6 columns):\n",
            " #   Column                 Non-Null Count  Dtype  \n",
            "---  ------                 --------------  -----  \n",
            " 0   web-scraper-order      30 non-null     object \n",
            " 1   web-scraper-start-url  30 non-null     object \n",
            " 2   Rating                 30 non-null     object \n",
            " 3   Review Date            30 non-null     object \n",
            " 4   Review Text            30 non-null     object \n",
            " 5   Shopee                 0 non-null      float64\n",
            "dtypes: float64(1), object(5)\n",
            "memory usage: 1.5+ KB\n"
          ]
        }
      ]
    },
    {
      "cell_type": "markdown",
      "source": [
        "## b. Extract rating from raw data"
      ],
      "metadata": {
        "id": "txid7owqC6p1"
      }
    },
    {
      "cell_type": "code",
      "source": [
        "from bs4 import BeautifulSoup\n",
        "\n",
        "def extract_rating(html_text):\n",
        "  html_text = str(html_text)\n",
        "  soup = BeautifulSoup(html_text, 'html.parser')  # Parse the HTML text\n",
        "  rating_icons = soup.find_all('svg', class_='icon-rating-solid--active')   # Find all SVG elements with the specified class\n",
        "  rating_value = len(rating_icons)   # Get the length of the list to determine the rating value\n",
        "  return rating_value\n",
        "\n",
        "dataframe['Rating'] = dataframe['Rating'].apply(extract_rating)"
      ],
      "metadata": {
        "id": "oE0nNWQYCu19"
      },
      "execution_count": 27,
      "outputs": []
    },
    {
      "cell_type": "markdown",
      "source": [
        "## c. Extract review Date from raw data"
      ],
      "metadata": {
        "id": "7Mhq14TCDRdZ"
      }
    },
    {
      "cell_type": "code",
      "source": [
        "import datetime\n",
        "def extract_review_date(text):\n",
        "  date_str = text.split(' | ')[0]\n",
        "  date_obj = datetime.datetime.strptime(date_str, '%Y-%m-%d %H:%M')\n",
        "  return date_obj.strftime('%Y-%m-%d 00:00:00')\n",
        "\n",
        "dataframe['Review Date'] = dataframe['Review Date'].apply(extract_review_date)"
      ],
      "metadata": {
        "id": "cNO5yso1DNG8"
      },
      "execution_count": 28,
      "outputs": []
    },
    {
      "cell_type": "markdown",
      "source": [
        "## d. Extract review Text from raw data"
      ],
      "metadata": {
        "id": "xMpg-x-7Df22"
      }
    },
    {
      "cell_type": "code",
      "source": [
        "from bs4 import BeautifulSoup\n",
        "\n",
        "def extract_review_text(html_text):\n",
        "  html_text = str(html_text)\n",
        "  soup = BeautifulSoup(html_text, 'html.parser')  # Parse the HTML text\n",
        "  div_tags = soup.find_all('div')    # Find all <div> tags\n",
        "  all_text = []\n",
        "  for div_tag in div_tags:       # Extract text from each <div> tag\n",
        "      text = div_tag.get_text(strip=True)\n",
        "      if text:\n",
        "          all_text.append(text)\n",
        "\n",
        "  other_text = [text for text in soup.find_all(string=True, recursive=False) if text.strip()]   # Find all text nodes directly under the root node\n",
        "  all_text.extend(other_text)    # Add the text outside of <div> tags to the list\n",
        "  text = \"'.'\".join(all_text)\n",
        "  return text\n",
        "\n",
        "dataframe['Review Text'] = dataframe['Review Text'].apply(extract_review_text)"
      ],
      "metadata": {
        "colab": {
          "base_uri": "https://localhost:8080/"
        },
        "id": "OsdCZ9yfDbMU",
        "outputId": "2136ab57-7c34-4181-f917-258b9a4c6661"
      },
      "execution_count": 29,
      "outputs": [
        {
          "output_type": "stream",
          "name": "stderr",
          "text": [
            "<ipython-input-29-bcc125fc898a>:5: MarkupResemblesLocatorWarning: The input looks more like a filename than markup. You may want to open this file and pass the filehandle into Beautiful Soup.\n",
            "  soup = BeautifulSoup(html_text, 'html.parser')  # Parse the HTML text\n"
          ]
        }
      ]
    },
    {
      "cell_type": "markdown",
      "source": [
        "## e. Adding country and source column to dataframe"
      ],
      "metadata": {
        "id": "7YQfEbgCD6dH"
      }
    },
    {
      "cell_type": "code",
      "source": [
        "dataframe['Country'] = 'Singapore'\n",
        "dataframe['Source'] = 'Shopee-SG'\n",
        "\n",
        "print(dataframe.head())"
      ],
      "metadata": {
        "colab": {
          "base_uri": "https://localhost:8080/"
        },
        "id": "q2LLt0-TD25O",
        "outputId": "fbe0661a-ca2d-4f61-a195-2df4a1fbd016"
      },
      "execution_count": 30,
      "outputs": [
        {
          "output_type": "stream",
          "name": "stdout",
          "text": [
            "  web-scraper-order                              web-scraper-start-url  \\\n",
            "0    1677488306-223  https://shopee.sg/Apple-iPhone-14-i.442800909....   \n",
            "1    1677488306-224  https://shopee.sg/Apple-iPhone-14-i.442800909....   \n",
            "2    1677488306-225  https://shopee.sg/Apple-iPhone-14-i.442800909....   \n",
            "3    1677488306-226  https://shopee.sg/Apple-iPhone-14-i.442800909....   \n",
            "4    1677488306-227  https://shopee.sg/Apple-iPhone-14-i.442800909....   \n",
            "\n",
            "   Rating          Review Date  \\\n",
            "0       5  2022-12-28 00:00:00   \n",
            "1       5  2022-10-11 00:00:00   \n",
            "2       5  2023-01-07 00:00:00   \n",
            "3       5  2023-01-29 00:00:00   \n",
            "4       5  2023-01-29 00:00:00   \n",
            "\n",
            "                                         Review Text  Shopee    Country  \\\n",
            "0  Performance:yet to try'.'Best Feature(s):size ...     NaN  Singapore   \n",
            "1  Performance:⭐️⭐️⭐️⭐️⭐️'.'Best Feature(s):⭐️⭐️⭐...     NaN  Singapore   \n",
            "2  Performance:👍👍👍'.'Best Feature(s):👍👍👍'.'Value ...     NaN  Singapore   \n",
            "3  Delivery within 3-4 working days. Haven’t trie...     NaN  Singapore   \n",
            "4  much cheaper than official site! delivery was ...     NaN  Singapore   \n",
            "\n",
            "      Source  \n",
            "0  Shopee-SG  \n",
            "1  Shopee-SG  \n",
            "2  Shopee-SG  \n",
            "3  Shopee-SG  \n",
            "4  Shopee-SG  \n"
          ]
        }
      ]
    },
    {
      "cell_type": "markdown",
      "source": [
        "## f. Manage dataframe into desired format"
      ],
      "metadata": {
        "id": "to3B6baEEHD_"
      }
    },
    {
      "cell_type": "code",
      "source": [
        "shopee_dataframe = pd.concat([dataframe['Country'],dataframe['Source'], dataframe['Rating'],dataframe['Review Date'],dataframe['Review Text']],axis=1)"
      ],
      "metadata": {
        "id": "ltFTIHNYEC3F"
      },
      "execution_count": 31,
      "outputs": []
    },
    {
      "cell_type": "code",
      "source": [
        "shopee_dataframe.head()"
      ],
      "metadata": {
        "colab": {
          "base_uri": "https://localhost:8080/",
          "height": 206
        },
        "id": "6DohiHUcEQ3x",
        "outputId": "c49531f8-822d-4f95-c72d-5c59bbb0f1e9"
      },
      "execution_count": 33,
      "outputs": [
        {
          "output_type": "execute_result",
          "data": {
            "text/plain": [
              "     Country     Source  Rating          Review Date  \\\n",
              "0  Singapore  Shopee-SG       5  2022-12-28 00:00:00   \n",
              "1  Singapore  Shopee-SG       5  2022-10-11 00:00:00   \n",
              "2  Singapore  Shopee-SG       5  2023-01-07 00:00:00   \n",
              "3  Singapore  Shopee-SG       5  2023-01-29 00:00:00   \n",
              "4  Singapore  Shopee-SG       5  2023-01-29 00:00:00   \n",
              "\n",
              "                                         Review Text  \n",
              "0  Performance:yet to try'.'Best Feature(s):size ...  \n",
              "1  Performance:⭐️⭐️⭐️⭐️⭐️'.'Best Feature(s):⭐️⭐️⭐...  \n",
              "2  Performance:👍👍👍'.'Best Feature(s):👍👍👍'.'Value ...  \n",
              "3  Delivery within 3-4 working days. Haven’t trie...  \n",
              "4  much cheaper than official site! delivery was ...  "
            ],
            "text/html": [
              "\n",
              "  <div id=\"df-02e766cd-44e5-4ad8-8ec9-d8e85a9a308d\" class=\"colab-df-container\">\n",
              "    <div>\n",
              "<style scoped>\n",
              "    .dataframe tbody tr th:only-of-type {\n",
              "        vertical-align: middle;\n",
              "    }\n",
              "\n",
              "    .dataframe tbody tr th {\n",
              "        vertical-align: top;\n",
              "    }\n",
              "\n",
              "    .dataframe thead th {\n",
              "        text-align: right;\n",
              "    }\n",
              "</style>\n",
              "<table border=\"1\" class=\"dataframe\">\n",
              "  <thead>\n",
              "    <tr style=\"text-align: right;\">\n",
              "      <th></th>\n",
              "      <th>Country</th>\n",
              "      <th>Source</th>\n",
              "      <th>Rating</th>\n",
              "      <th>Review Date</th>\n",
              "      <th>Review Text</th>\n",
              "    </tr>\n",
              "  </thead>\n",
              "  <tbody>\n",
              "    <tr>\n",
              "      <th>0</th>\n",
              "      <td>Singapore</td>\n",
              "      <td>Shopee-SG</td>\n",
              "      <td>5</td>\n",
              "      <td>2022-12-28 00:00:00</td>\n",
              "      <td>Performance:yet to try'.'Best Feature(s):size ...</td>\n",
              "    </tr>\n",
              "    <tr>\n",
              "      <th>1</th>\n",
              "      <td>Singapore</td>\n",
              "      <td>Shopee-SG</td>\n",
              "      <td>5</td>\n",
              "      <td>2022-10-11 00:00:00</td>\n",
              "      <td>Performance:⭐️⭐️⭐️⭐️⭐️'.'Best Feature(s):⭐️⭐️⭐...</td>\n",
              "    </tr>\n",
              "    <tr>\n",
              "      <th>2</th>\n",
              "      <td>Singapore</td>\n",
              "      <td>Shopee-SG</td>\n",
              "      <td>5</td>\n",
              "      <td>2023-01-07 00:00:00</td>\n",
              "      <td>Performance:👍👍👍'.'Best Feature(s):👍👍👍'.'Value ...</td>\n",
              "    </tr>\n",
              "    <tr>\n",
              "      <th>3</th>\n",
              "      <td>Singapore</td>\n",
              "      <td>Shopee-SG</td>\n",
              "      <td>5</td>\n",
              "      <td>2023-01-29 00:00:00</td>\n",
              "      <td>Delivery within 3-4 working days. Haven’t trie...</td>\n",
              "    </tr>\n",
              "    <tr>\n",
              "      <th>4</th>\n",
              "      <td>Singapore</td>\n",
              "      <td>Shopee-SG</td>\n",
              "      <td>5</td>\n",
              "      <td>2023-01-29 00:00:00</td>\n",
              "      <td>much cheaper than official site! delivery was ...</td>\n",
              "    </tr>\n",
              "  </tbody>\n",
              "</table>\n",
              "</div>\n",
              "    <div class=\"colab-df-buttons\">\n",
              "\n",
              "  <div class=\"colab-df-container\">\n",
              "    <button class=\"colab-df-convert\" onclick=\"convertToInteractive('df-02e766cd-44e5-4ad8-8ec9-d8e85a9a308d')\"\n",
              "            title=\"Convert this dataframe to an interactive table.\"\n",
              "            style=\"display:none;\">\n",
              "\n",
              "  <svg xmlns=\"http://www.w3.org/2000/svg\" height=\"24px\" viewBox=\"0 -960 960 960\">\n",
              "    <path d=\"M120-120v-720h720v720H120Zm60-500h600v-160H180v160Zm220 220h160v-160H400v160Zm0 220h160v-160H400v160ZM180-400h160v-160H180v160Zm440 0h160v-160H620v160ZM180-180h160v-160H180v160Zm440 0h160v-160H620v160Z\"/>\n",
              "  </svg>\n",
              "    </button>\n",
              "\n",
              "  <style>\n",
              "    .colab-df-container {\n",
              "      display:flex;\n",
              "      gap: 12px;\n",
              "    }\n",
              "\n",
              "    .colab-df-convert {\n",
              "      background-color: #E8F0FE;\n",
              "      border: none;\n",
              "      border-radius: 50%;\n",
              "      cursor: pointer;\n",
              "      display: none;\n",
              "      fill: #1967D2;\n",
              "      height: 32px;\n",
              "      padding: 0 0 0 0;\n",
              "      width: 32px;\n",
              "    }\n",
              "\n",
              "    .colab-df-convert:hover {\n",
              "      background-color: #E2EBFA;\n",
              "      box-shadow: 0px 1px 2px rgba(60, 64, 67, 0.3), 0px 1px 3px 1px rgba(60, 64, 67, 0.15);\n",
              "      fill: #174EA6;\n",
              "    }\n",
              "\n",
              "    .colab-df-buttons div {\n",
              "      margin-bottom: 4px;\n",
              "    }\n",
              "\n",
              "    [theme=dark] .colab-df-convert {\n",
              "      background-color: #3B4455;\n",
              "      fill: #D2E3FC;\n",
              "    }\n",
              "\n",
              "    [theme=dark] .colab-df-convert:hover {\n",
              "      background-color: #434B5C;\n",
              "      box-shadow: 0px 1px 3px 1px rgba(0, 0, 0, 0.15);\n",
              "      filter: drop-shadow(0px 1px 2px rgba(0, 0, 0, 0.3));\n",
              "      fill: #FFFFFF;\n",
              "    }\n",
              "  </style>\n",
              "\n",
              "    <script>\n",
              "      const buttonEl =\n",
              "        document.querySelector('#df-02e766cd-44e5-4ad8-8ec9-d8e85a9a308d button.colab-df-convert');\n",
              "      buttonEl.style.display =\n",
              "        google.colab.kernel.accessAllowed ? 'block' : 'none';\n",
              "\n",
              "      async function convertToInteractive(key) {\n",
              "        const element = document.querySelector('#df-02e766cd-44e5-4ad8-8ec9-d8e85a9a308d');\n",
              "        const dataTable =\n",
              "          await google.colab.kernel.invokeFunction('convertToInteractive',\n",
              "                                                    [key], {});\n",
              "        if (!dataTable) return;\n",
              "\n",
              "        const docLinkHtml = 'Like what you see? Visit the ' +\n",
              "          '<a target=\"_blank\" href=https://colab.research.google.com/notebooks/data_table.ipynb>data table notebook</a>'\n",
              "          + ' to learn more about interactive tables.';\n",
              "        element.innerHTML = '';\n",
              "        dataTable['output_type'] = 'display_data';\n",
              "        await google.colab.output.renderOutput(dataTable, element);\n",
              "        const docLink = document.createElement('div');\n",
              "        docLink.innerHTML = docLinkHtml;\n",
              "        element.appendChild(docLink);\n",
              "      }\n",
              "    </script>\n",
              "  </div>\n",
              "\n",
              "\n",
              "<div id=\"df-b83c51df-67b9-4bfa-a4a9-d330afb8d3ec\">\n",
              "  <button class=\"colab-df-quickchart\" onclick=\"quickchart('df-b83c51df-67b9-4bfa-a4a9-d330afb8d3ec')\"\n",
              "            title=\"Suggest charts\"\n",
              "            style=\"display:none;\">\n",
              "\n",
              "<svg xmlns=\"http://www.w3.org/2000/svg\" height=\"24px\"viewBox=\"0 0 24 24\"\n",
              "     width=\"24px\">\n",
              "    <g>\n",
              "        <path d=\"M19 3H5c-1.1 0-2 .9-2 2v14c0 1.1.9 2 2 2h14c1.1 0 2-.9 2-2V5c0-1.1-.9-2-2-2zM9 17H7v-7h2v7zm4 0h-2V7h2v10zm4 0h-2v-4h2v4z\"/>\n",
              "    </g>\n",
              "</svg>\n",
              "  </button>\n",
              "\n",
              "<style>\n",
              "  .colab-df-quickchart {\n",
              "      --bg-color: #E8F0FE;\n",
              "      --fill-color: #1967D2;\n",
              "      --hover-bg-color: #E2EBFA;\n",
              "      --hover-fill-color: #174EA6;\n",
              "      --disabled-fill-color: #AAA;\n",
              "      --disabled-bg-color: #DDD;\n",
              "  }\n",
              "\n",
              "  [theme=dark] .colab-df-quickchart {\n",
              "      --bg-color: #3B4455;\n",
              "      --fill-color: #D2E3FC;\n",
              "      --hover-bg-color: #434B5C;\n",
              "      --hover-fill-color: #FFFFFF;\n",
              "      --disabled-bg-color: #3B4455;\n",
              "      --disabled-fill-color: #666;\n",
              "  }\n",
              "\n",
              "  .colab-df-quickchart {\n",
              "    background-color: var(--bg-color);\n",
              "    border: none;\n",
              "    border-radius: 50%;\n",
              "    cursor: pointer;\n",
              "    display: none;\n",
              "    fill: var(--fill-color);\n",
              "    height: 32px;\n",
              "    padding: 0;\n",
              "    width: 32px;\n",
              "  }\n",
              "\n",
              "  .colab-df-quickchart:hover {\n",
              "    background-color: var(--hover-bg-color);\n",
              "    box-shadow: 0 1px 2px rgba(60, 64, 67, 0.3), 0 1px 3px 1px rgba(60, 64, 67, 0.15);\n",
              "    fill: var(--button-hover-fill-color);\n",
              "  }\n",
              "\n",
              "  .colab-df-quickchart-complete:disabled,\n",
              "  .colab-df-quickchart-complete:disabled:hover {\n",
              "    background-color: var(--disabled-bg-color);\n",
              "    fill: var(--disabled-fill-color);\n",
              "    box-shadow: none;\n",
              "  }\n",
              "\n",
              "  .colab-df-spinner {\n",
              "    border: 2px solid var(--fill-color);\n",
              "    border-color: transparent;\n",
              "    border-bottom-color: var(--fill-color);\n",
              "    animation:\n",
              "      spin 1s steps(1) infinite;\n",
              "  }\n",
              "\n",
              "  @keyframes spin {\n",
              "    0% {\n",
              "      border-color: transparent;\n",
              "      border-bottom-color: var(--fill-color);\n",
              "      border-left-color: var(--fill-color);\n",
              "    }\n",
              "    20% {\n",
              "      border-color: transparent;\n",
              "      border-left-color: var(--fill-color);\n",
              "      border-top-color: var(--fill-color);\n",
              "    }\n",
              "    30% {\n",
              "      border-color: transparent;\n",
              "      border-left-color: var(--fill-color);\n",
              "      border-top-color: var(--fill-color);\n",
              "      border-right-color: var(--fill-color);\n",
              "    }\n",
              "    40% {\n",
              "      border-color: transparent;\n",
              "      border-right-color: var(--fill-color);\n",
              "      border-top-color: var(--fill-color);\n",
              "    }\n",
              "    60% {\n",
              "      border-color: transparent;\n",
              "      border-right-color: var(--fill-color);\n",
              "    }\n",
              "    80% {\n",
              "      border-color: transparent;\n",
              "      border-right-color: var(--fill-color);\n",
              "      border-bottom-color: var(--fill-color);\n",
              "    }\n",
              "    90% {\n",
              "      border-color: transparent;\n",
              "      border-bottom-color: var(--fill-color);\n",
              "    }\n",
              "  }\n",
              "</style>\n",
              "\n",
              "  <script>\n",
              "    async function quickchart(key) {\n",
              "      const quickchartButtonEl =\n",
              "        document.querySelector('#' + key + ' button');\n",
              "      quickchartButtonEl.disabled = true;  // To prevent multiple clicks.\n",
              "      quickchartButtonEl.classList.add('colab-df-spinner');\n",
              "      try {\n",
              "        const charts = await google.colab.kernel.invokeFunction(\n",
              "            'suggestCharts', [key], {});\n",
              "      } catch (error) {\n",
              "        console.error('Error during call to suggestCharts:', error);\n",
              "      }\n",
              "      quickchartButtonEl.classList.remove('colab-df-spinner');\n",
              "      quickchartButtonEl.classList.add('colab-df-quickchart-complete');\n",
              "    }\n",
              "    (() => {\n",
              "      let quickchartButtonEl =\n",
              "        document.querySelector('#df-b83c51df-67b9-4bfa-a4a9-d330afb8d3ec button');\n",
              "      quickchartButtonEl.style.display =\n",
              "        google.colab.kernel.accessAllowed ? 'block' : 'none';\n",
              "    })();\n",
              "  </script>\n",
              "</div>\n",
              "\n",
              "    </div>\n",
              "  </div>\n"
            ],
            "application/vnd.google.colaboratory.intrinsic+json": {
              "type": "dataframe",
              "variable_name": "shopee_dataframe",
              "summary": "{\n  \"name\": \"shopee_dataframe\",\n  \"rows\": 30,\n  \"fields\": [\n    {\n      \"column\": \"Country\",\n      \"properties\": {\n        \"dtype\": \"category\",\n        \"num_unique_values\": 1,\n        \"samples\": [\n          \"Singapore\"\n        ],\n        \"semantic_type\": \"\",\n        \"description\": \"\"\n      }\n    },\n    {\n      \"column\": \"Source\",\n      \"properties\": {\n        \"dtype\": \"category\",\n        \"num_unique_values\": 1,\n        \"samples\": [\n          \"Shopee-SG\"\n        ],\n        \"semantic_type\": \"\",\n        \"description\": \"\"\n      }\n    },\n    {\n      \"column\": \"Rating\",\n      \"properties\": {\n        \"dtype\": \"number\",\n        \"std\": 0,\n        \"min\": 2,\n        \"max\": 5,\n        \"num_unique_values\": 3,\n        \"samples\": [\n          5\n        ],\n        \"semantic_type\": \"\",\n        \"description\": \"\"\n      }\n    },\n    {\n      \"column\": \"Review Date\",\n      \"properties\": {\n        \"dtype\": \"object\",\n        \"num_unique_values\": 25,\n        \"samples\": [\n          \"2023-02-11 00:00:00\"\n        ],\n        \"semantic_type\": \"\",\n        \"description\": \"\"\n      }\n    },\n    {\n      \"column\": \"Review Text\",\n      \"properties\": {\n        \"dtype\": \"string\",\n        \"num_unique_values\": 30,\n        \"samples\": [\n          \"Delivery was very fast within 1day. Packaging could be better as the bubble wrap did not protect the iPhone whatsoever. It was merely placed there for show imo.\"\n        ],\n        \"semantic_type\": \"\",\n        \"description\": \"\"\n      }\n    }\n  ]\n}"
            }
          },
          "metadata": {},
          "execution_count": 33
        }
      ]
    },
    {
      "cell_type": "markdown",
      "source": [
        "# 3. Concatinate both dataframe"
      ],
      "metadata": {
        "id": "BeENKsUEEeMQ"
      }
    },
    {
      "cell_type": "code",
      "source": [
        "output_belsimpel_shopee_dataframe = pd.concat([belsimpel_dataframe,shopee_dataframe],axis=0)"
      ],
      "metadata": {
        "id": "FnUnmVK1ESgJ"
      },
      "execution_count": 34,
      "outputs": []
    },
    {
      "cell_type": "markdown",
      "source": [
        "# 4. Save the dataframe into excel format"
      ],
      "metadata": {
        "id": "v5y7R_kcEsdg"
      }
    },
    {
      "cell_type": "code",
      "source": [
        "output_belsimpel_shopee_dataframe.to_excel('output_file.xlsx', index=False)"
      ],
      "metadata": {
        "id": "dx1JygAMEnwf"
      },
      "execution_count": 35,
      "outputs": []
    },
    {
      "cell_type": "code",
      "source": [],
      "metadata": {
        "id": "QZ3JoiSPExRX"
      },
      "execution_count": null,
      "outputs": []
    }
  ]
}